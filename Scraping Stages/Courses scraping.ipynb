{
 "cells": [
  {
   "cell_type": "raw",
   "id": "fifty-capture",
   "metadata": {
    "scrolled": true
   },
   "source": [
    "from selenium import webdriver\n",
    "from selenium.webdriver.common.keys import Keys\n",
    "from selenium.webdriver.common.action_chains import ActionChains\n",
    "import time\n",
    "\n",
    "from bs4 import BeautifulSoup\n",
    "import lxml\n",
    "import requests\n",
    "import pandas as pd\n",
    "from time import sleep\n",
    "import random\n",
    "import re"
   ]
  },
  {
   "cell_type": "code",
   "execution_count": 2,
   "id": "paperback-sucking",
   "metadata": {
    "scrolled": true
   },
   "outputs": [],
   "source": [
    "title = []\n",
    "skills = []\n",
    "company = []"
   ]
  },
  {
   "cell_type": "markdown",
   "id": "objective-dublin",
   "metadata": {},
   "source": []
  },
  {
   "cell_type": "code",
   "execution_count": 55,
   "id": "electric-pressing",
   "metadata": {},
   "outputs": [],
   "source": [
    "def r_time():\n",
    "    return random.randint(1,8)"
   ]
  },
  {
   "cell_type": "code",
   "execution_count": 4,
   "id": "african-reach",
   "metadata": {
    "scrolled": true
   },
   "outputs": [],
   "source": [
    "def next_page():\n",
    "    for i in range(10):\n",
    "        next_click = driver.find_element_by_link_text('Next')\n",
    "        action = ActionChains(driver)\n",
    "        action.click(on_element=next_click)\n",
    "        action.perform()\n",
    "        time.sleep(r_time())"
   ]
  },
  {
   "cell_type": "code",
   "execution_count": 5,
   "id": "distant-above",
   "metadata": {
    "scrolled": true
   },
   "outputs": [],
   "source": [
    "def get_items(html_source):\n",
    "    soup = BeautifulSoup(html_source, 'html.parser')\n",
    "    jobt = soup.select('div[data-automation=detailsTitle]')\n",
    "    for i in jobt:\n",
    "        title.append(i.find('h1').get_text())\n",
    "        company.append(i.find('span').get_text())\n",
    "    desc = soup.select('div[data-automation=jobDescription]')\n",
    "    for i in desc:\n",
    "        reqs_i = []\n",
    "        lists = i.findAll('ul')\n",
    "        for j in lists:\n",
    "            items = j.findAll('li')\n",
    "            for k in items:\n",
    "                reqs_i.append(k.get_text())\n",
    "        skills.append(reqs_i)"
   ]
  },
  {
   "cell_type": "code",
   "execution_count": 10,
   "id": "cleared-angle",
   "metadata": {
    "scrolled": true
   },
   "outputs": [],
   "source": [
    "def scrape(url):\n",
    "    driver.get(url)\n",
    "    for i in range(0,30):\n",
    "        try:\n",
    "            css = 'article[data-automation=job-card-' + str(i) +']'\n",
    "            time.sleep(r_time())\n",
    "            element = driver.find_element_by_css_selector(css)\n",
    "#            k = i + 1\n",
    "#            xpath = '/html/body/div[1]/div/div/div[2]/div[2]/div/div/div[1]/div/div/div/div[2]/div[3]/div/div['+ str(k) +']/div/div/article/div/div/div[1]/div[1]'\n",
    "            elems = element.find_element_by_tag_name('div')\n",
    "            action = ActionChains(driver)\n",
    "            action.click(on_element=elems)\n",
    "            action.perform()\n",
    "            time.sleep(r_time())\n",
    "            html_source = driver.page_source\n",
    "            get_items(html_source)\n",
    "            time.sleep(r_time())\n",
    "        except:\n",
    "            continue"
   ]
  },
  {
   "cell_type": "code",
   "execution_count": 96,
   "id": "ignored-vessel",
   "metadata": {},
   "outputs": [],
   "source": [
    "PATH = \"C:/Users/hbalcera/Desktop/S4/chromedriver\"\n",
    "driver = webdriver.Chrome(PATH)\n",
    "\n",
    "base = 'https://www.jobstreet.com.ph/en/job-search/data-scientist-jobs/4/'\n",
    "\n",
    "scrape(base)\n",
    "driver.quit()"
   ]
  },
  {
   "cell_type": "code",
   "execution_count": 97,
   "id": "complicated-opposition",
   "metadata": {
    "scrolled": true
   },
   "outputs": [],
   "source": [
    "Titledf = pd.DataFrame({'title':title})\n",
    "Skillsdf = pd.DataFrame({'Skills':skills})\n",
    "Companydf = pd.DataFrame({'company':company})"
   ]
  },
  {
   "cell_type": "code",
   "execution_count": 98,
   "id": "marine-brighton",
   "metadata": {
    "scrolled": true
   },
   "outputs": [],
   "source": [
    "jobstreet2 = pd.concat([Skillsdf, Titledf, Companydf], axis=1)"
   ]
  },
  {
   "cell_type": "code",
   "execution_count": 99,
   "id": "color-cement",
   "metadata": {},
   "outputs": [],
   "source": [
    "js_df = pd.concat([js_df, jobstreet2], axis=0)"
   ]
  },
  {
   "cell_type": "code",
   "execution_count": 100,
   "id": "deadly-installation",
   "metadata": {
    "scrolled": true
   },
   "outputs": [
    {
     "data": {
      "text/plain": [
       "2215"
      ]
     },
     "execution_count": 100,
     "metadata": {},
     "output_type": "execute_result"
    }
   ],
   "source": [
    "len(js_df)"
   ]
  },
  {
   "cell_type": "code",
   "execution_count": 101,
   "id": "romance-wings",
   "metadata": {},
   "outputs": [],
   "source": [
    "cleaning = pd.DataFrame(columns=['lower','num','punct'])"
   ]
  },
  {
   "cell_type": "code",
   "execution_count": 102,
   "id": "fitting-employment",
   "metadata": {
    "scrolled": true
   },
   "outputs": [],
   "source": [
    "cleaning['liststring'] = [','.join(map(str, l)) for l in js_df['Skills']]\n",
    "\n",
    "cleaning['lower'] = [i.lower() for i in cleaning['liststring']]\n",
    "cleaning['num'] = [re.sub(r'\\w*\\d\\w*', '', i).strip() for i in cleaning['lower']]\n",
    "\n",
    "import string\n",
    "js_df['Skills'] = [s.translate(str.maketrans('','',string.punctuation)) for s in cleaning['num']]"
   ]
  },
  {
   "cell_type": "code",
   "execution_count": 103,
   "id": "cognitive-reference",
   "metadata": {},
   "outputs": [
    {
     "data": {
      "text/html": [
       "<div>\n",
       "<style scoped>\n",
       "    .dataframe tbody tr th:only-of-type {\n",
       "        vertical-align: middle;\n",
       "    }\n",
       "\n",
       "    .dataframe tbody tr th {\n",
       "        vertical-align: top;\n",
       "    }\n",
       "\n",
       "    .dataframe thead th {\n",
       "        text-align: right;\n",
       "    }\n",
       "</style>\n",
       "<table border=\"1\" class=\"dataframe\">\n",
       "  <thead>\n",
       "    <tr style=\"text-align: right;\">\n",
       "      <th></th>\n",
       "      <th>Skills</th>\n",
       "      <th>title</th>\n",
       "      <th>company</th>\n",
       "    </tr>\n",
       "  </thead>\n",
       "  <tbody>\n",
       "    <tr>\n",
       "      <th>0</th>\n",
       "      <td>scope and analyze business problems by creatin...</td>\n",
       "      <td>Data Scientist</td>\n",
       "      <td>Smart Communications, Inc.</td>\n",
       "    </tr>\n",
       "    <tr>\n",
       "      <th>1</th>\n",
       "      <td>scope and analyze business problems by creatin...</td>\n",
       "      <td>Data Scientist</td>\n",
       "      <td>Smart Communications, Inc.</td>\n",
       "    </tr>\n",
       "    <tr>\n",
       "      <th>2</th>\n",
       "      <td>develop machine learning models ml models to s...</td>\n",
       "      <td>Senior Data Scientist</td>\n",
       "      <td>Novare Technologies, Inc.</td>\n",
       "    </tr>\n",
       "    <tr>\n",
       "      <th>3</th>\n",
       "      <td>collaborate with crossfunctional stakeholders ...</td>\n",
       "      <td>Data Scientist</td>\n",
       "      <td>EMAPTA</td>\n",
       "    </tr>\n",
       "    <tr>\n",
       "      <th>4</th>\n",
       "      <td>lead a team of dav associates and analysts and...</td>\n",
       "      <td>Data Analytics &amp; Visualization Supervisor</td>\n",
       "      <td>Curran Daly &amp; Associates</td>\n",
       "    </tr>\n",
       "  </tbody>\n",
       "</table>\n",
       "</div>"
      ],
      "text/plain": [
       "                                              Skills  \\\n",
       "0  scope and analyze business problems by creatin...   \n",
       "1  scope and analyze business problems by creatin...   \n",
       "2  develop machine learning models ml models to s...   \n",
       "3  collaborate with crossfunctional stakeholders ...   \n",
       "4  lead a team of dav associates and analysts and...   \n",
       "\n",
       "                                       title                     company  \n",
       "0                             Data Scientist  Smart Communications, Inc.  \n",
       "1                             Data Scientist  Smart Communications, Inc.  \n",
       "2                      Senior Data Scientist   Novare Technologies, Inc.  \n",
       "3                             Data Scientist                      EMAPTA  \n",
       "4  Data Analytics & Visualization Supervisor    Curran Daly & Associates  "
      ]
     },
     "execution_count": 103,
     "metadata": {},
     "output_type": "execute_result"
    }
   ],
   "source": [
    "js_df.head()"
   ]
  },
  {
   "cell_type": "code",
   "execution_count": 104,
   "id": "democratic-anchor",
   "metadata": {
    "scrolled": true
   },
   "outputs": [],
   "source": [
    "js_df.to_csv('jobstreet.csv')"
   ]
  },
  {
   "cell_type": "code",
   "execution_count": null,
   "id": "actual-government",
   "metadata": {
    "scrolled": true
   },
   "outputs": [],
   "source": [
    "questions['votes'] = pd.to_numeric(questions['votes'])"
   ]
  }
 ],
 "metadata": {
  "kernelspec": {
   "display_name": "Python 3",
   "language": "python",
   "name": "python3"
  },
  "language_info": {
   "codemirror_mode": {
    "name": "ipython",
    "version": 3
   },
   "file_extension": ".py",
   "mimetype": "text/x-python",
   "name": "python",
   "nbconvert_exporter": "python",
   "pygments_lexer": "ipython3",
   "version": "3.8.5"
  }
 },
 "nbformat": 4,
 "nbformat_minor": 5
}
